{
 "cells": [
  {
   "cell_type": "markdown",
   "metadata": {},
   "source": [
    "# Context and Sequences\n",
    "\n",
    "## New Notebook, New Language\n",
    "\n",
    "In this notebook, we will look at how we can extract sequences of words from a corpus and learn how we can build a semantic space and a Markov model from those. As it will be more important to actually understand the data we are working with, we will switch from our sample of Polish data to a slightly bigger sample of English and use the first 2 million words from the BNC. Let's get started!\n",
    "\n",
    "As we are working with new data, we should take a look and see what we are dealing with. We can check what the first 20 lines look like to get an idea:"
   ]
  },
  {
   "cell_type": "code",
   "execution_count": 2,
   "metadata": {},
   "outputs": [
    {
     "name": "stdout",
     "output_type": "stream",
     "text": [
      "\n",
      "FACTSHEET WHAT IS AIDS?\n",
      "AIDS (Acquired Immune Deficiency Syndrome)is a condition caused by a virus called HIV (Human Immuno Deficiency Virus).\n",
      "This virus affects the body's defence system so that it cannot fight infection.\n",
      "How is infection transmitted?\n",
      "through unprotected sexual intercourse with an infected partner.\n",
      "through infected blood or blood products.\n",
      "from an infected mother to her baby.\n",
      "It is not transmitted from:\n",
      "giving blood/mosquito bites/toilet seats/kissing/from normal day-to-day contact\n",
      "---END.OF.DOCUMENT---\n",
      "\n",
      "How does it affect you?\n",
      "The medical aspects can be cancer, pneumonia, sudden blindness, dementia, dramatic weight loss or any combination of these.\n",
      "Often infected people are rejected by family and friends, leaving them to face this chronic condition alone.\n",
      "---END.OF.DOCUMENT---\n",
      "\n",
      "Did you know?\n",
      "there is no vaccine or cure currently available.\n",
      "10 million people worldwide are infected with HIV.\n"
     ]
    }
   ],
   "source": [
    "!head -n 20 ../data/BNC.sample"
   ]
  },
  {
   "cell_type": "markdown",
   "metadata": {},
   "source": [
    "(The ! at the beginning of that command makes use of one of the reasons we are using iPython rather than the regular python interpreter. It tells iPython that the command (head) is actually something we would type into the terminal, rather than python, and it runs it in the background and then reports back with the output we would see in the terminal. Cool.)\n",
    "\n",
    "Now that output is quite different from what we had before. Our data does not come separated into words and it's not tagged either. It does come with document separators and every sentence appears to be one line, which will come in handy when we extract sequences, as we would not want those to cross documents, would we? Anyway, let's open the data in python and see whether we can work with it.\n",
    "\n",
    "To get started, we will only work on the first twenty documents to get a feel of some of the difficulties we might run into when working with (more) raw text data:"
   ]
  },
  {
   "cell_type": "code",
   "execution_count": 4,
   "metadata": {},
   "outputs": [],
   "source": [
    "file_path = \"../data/BNC.sample\"\n",
    "\n",
    "with open(file_path, \"r\") as bnc:\n",
    "    documents = list()\n",
    "    current_document = list()\n",
    "    while len(documents) < 20:\n",
    "        line = bnc.readline()\n",
    "        if line.strip() == \"---END.OF.DOCUMENT---\":\n",
    "            documents.append(current_document)\n",
    "            current_document = list()\n",
    "        else:\n",
    "            current_document.append(line.strip())"
   ]
  },
  {
   "cell_type": "code",
   "execution_count": 6,
   "metadata": {},
   "outputs": [
    {
     "data": {
      "text/plain": [
       "['',\n",
       " 'FACTSHEET WHAT IS AIDS?',\n",
       " 'AIDS (Acquired Immune Deficiency Syndrome)is a condition caused by a virus called HIV (Human Immuno Deficiency Virus).',\n",
       " \"This virus affects the body's defence system so that it cannot fight infection.\",\n",
       " 'How is infection transmitted?',\n",
       " 'through unprotected sexual intercourse with an infected partner.',\n",
       " 'through infected blood or blood products.',\n",
       " 'from an infected mother to her baby.',\n",
       " 'It is not transmitted from:',\n",
       " 'giving blood/mosquito bites/toilet seats/kissing/from normal day-to-day contact']"
      ]
     },
     "execution_count": 6,
     "metadata": {},
     "output_type": "execute_result"
    }
   ],
   "source": [
    "documents[0]"
   ]
  },
  {
   "cell_type": "markdown",
   "metadata": {},
   "source": [
    "We now have a data structure that contains the first 20 documents. You first task will be to replicate what we did in the previous notebook - generate a vocabulary with frequencies. To make this task even more fun, try your best to only count actual words and try to catch all of them!"
   ]
  },
  {
   "cell_type": "code",
   "execution_count": null,
   "metadata": {},
   "outputs": [],
   "source": []
  }
 ],
 "metadata": {
  "kernelspec": {
   "display_name": "Python 3",
   "language": "python",
   "name": "python3"
  },
  "language_info": {
   "codemirror_mode": {
    "name": "ipython",
    "version": 3
   },
   "file_extension": ".py",
   "mimetype": "text/x-python",
   "name": "python",
   "nbconvert_exporter": "python",
   "pygments_lexer": "ipython3",
   "version": "3.5.4"
  }
 },
 "nbformat": 4,
 "nbformat_minor": 2
}
